{
 "cells": [
  {
   "cell_type": "code",
   "execution_count": 2,
   "metadata": {
    "collapsed": true
   },
   "outputs": [],
   "source": [
    "# %load globe.py\n",
    "#!/usr/bin/env python\n",
    "# -*- coding: utf-8 -*-\n",
    "\n",
    "# 全局变量模块\n",
    "\n",
    "# corpus\n",
    "# input_txt = '/home/zhangxin/work/workplace_python/DeepNaturalLanguageProcessing/DeepNLP/data/input/myInput.txt'\n",
    "# output_txt = '/home/zhangxin/work/workplace_python/DeepNaturalLanguageProcessing/DeepNLP/data/input/myOutput.txt'\n",
    "# stopword = 'data/stopword.txt'\n",
    "#\n",
    "# data_patent = ''\n",
    "# data_process_result = '/home/zhangxin/work/workplace_python/DeepSentiment/data/tagging/result.txt'\n",
    "#\n",
    "# # train\n",
    "#\n",
    "# train_data = ('neg', '/home/zhangxin/work/DeepSentiment/data/train/result_neg.txt')\n",
    "# train_neu = ('neu', '/home/zhangxin/work/DeepSentiment/data/train/result_neu.txt')\n",
    "# train_pos = ('pos', '/home/zhangxin/work/DeepSentiment/data/train/result_pos.txt')\n",
    "\n",
    "# train_data = [(1, '/home/zhangxin/work/DeepSentiment/data/train/result_neg.txt'),\n",
    "#               (2, '/home/zhangxin/work/DeepSentiment/data/train/result_neu.txt'),\n",
    "#               (3, '/home/zhangxin/work/DeepSentiment/data/train/result_pos.txt')]\n",
    "\n",
    "# train_data = [(0, '/home/zhangxin/work/DeepSentiment/data/train/result_neg.txt'),\n",
    "#               (1, '/home/zhangxin/work/DeepSentiment/data/train/result_pos.txt')]\n",
    "#\n",
    "# file_parent = '/home/zhangxin/work/workplace_python/DeepNaturalLanguageProcessing/DeepNLP/data'\n",
    "# file_pos = '/home/zhangxin/work/workplace_python/DeepNaturalLanguageProcessing/DeepNLP/data/test3.txt'\n",
    "# file_neg = '/home/zhangxin/work/workplace_python/DeepNaturalLanguageProcessing/DeepNLP/data/test2.txt'\n",
    "# w2c_model_path = '/home/zhangxin/work/workplace_python/DeepSentiment/data/word2vec_model/'\n",
    "# w2c_model_path = 'data/model_w2v/mymodel'\n",
    "\n",
    "\n",
    "#================================================================================\n",
    "# train_data = ('neg', '/home/zhangxin/work/DeepSentiment/data/train/result_neg.txt')\n",
    "# train_neu = ('neu', '/home/zhangxin/work/DeepSentiment/data/train/result_neu.txt')\n",
    "# train_pos = ('pos', '/home/zhangxin/work/DeepSentiment/data/train/result_pos.txt')\n",
    "\n",
    "# train_data = [('neg', '/home/zhangxin/work/DeepSentiment/data/train/result_neg.txt'),\n",
    "#               ('neu', '/home/zhangxin/work/DeepSentiment/data/train/result_neu.txt'),\n",
    "#               ('pos', '/home/zhangxin/work/DeepSentiment/data/train/result_pos.txt')]\n",
    "\n",
    "# file_parent = '/home/zhangxin/work/workplace_python/DeepNaturalLanguageProcessing/DeepNLP/data'\n",
    "# file_neg = '/home/zhangxin/work/workplace_python/DeepNaturalLanguageProcessing/DeepNLP/data/test3.txt'\n",
    "# file_pos = '/home/zhangxin/work/workplace_python/DeepNaturalLanguageProcessing/DeepNLP/data/test2.txt'\n",
    "# w2c_model_path = '/home/zhangxin/work/workplace_python/DeepNaturalLanguageProcessing/DeepNLP/word2vecmodel/mymodel'\n",
    "\n",
    "# input_txt = '/Users/li/workshop/MyRepository/DeepNaturalLanguageProcessing/DeepNLP/data/input/myInput.txt'\n",
    "# output_txt = '/Users/li/workshop/MyRepository/DeepNaturalLanguageProcessing/DeepNLP/data/input/myOutput.txt'\n",
    "# stopword = '/Users/li/workshop/MyRepository/DeepNaturalLanguageProcessing/DeepNLP/data/stopword.txt'\n",
    "\n",
    "# data_process_result = '/Users/li/workshop/DataSet/sentiment/tagging/result.txt'\n",
    "\n",
    "# train_data = ('neg', '/Users/li/workshop/DataSet/sentiment/train/result_neg.txt')\n",
    "# train_neu = ('neu', '/Users/li/workshop/DataSet/sentiment/train/result_neu.txt')\n",
    "# train_pos = ('pos', '/Users/li/workshop/DataSet/sentiment/train/result_pos.txt')\n",
    "#\n",
    "# train_data = [('neg', '/Users/li/workshop/DataSet/sentiment/train/result_neg.txt'),\n",
    "#               ('neu', '/Users/li/workshop/DataSet/sentiment/train/result_neu.txt'),\n",
    "#               ('pos', '/Users/li/workshop/DataSet/sentiment/train/result_pos.txt')]\n",
    "\n",
    "# file_parent = '/Users/li/workshop/MyRepository/DeepNaturalLanguageProcessing/DeepNLP/data'\n",
    "# file_neg = '/Users/li/workshop/MyRepository/DeepNaturalLanguageProcessing/DeepNLP/data/test3.txt'\n",
    "# file_pos = '/Users/li/workshop/MyRepository/DeepNaturalLanguageProcessing/DeepNLP/data/test2.txt'\n",
    "# w2c_model_path = '/Users/li/workshop/MyRepository/DeepNaturalLanguageProcessing/DeepNLP/word2vecmodel/model'\n",
    "w2c_model_path = '/Users/li/workshop/MyRepository/stock_industry_sentiment_analysis/data_warehouse/word2vec_model/w2cmodel'\n",
    "\n",
    "# w2v模型的参数\n",
    "n_dim = 200\n",
    "min_count = 2\n",
    "\n",
    "pos_file_path = '/Users/li/workshop/DataSet/sentiment/train/result_pos.txt'\n",
    "neg_file_path = '/Users/li/workshop/DataSet/sentiment/train/result_neg.txt'\n",
    "\n",
    "# pos_file_path = '/home/zhangxin/work/workplace_python/DeepSentiment/data/train/result_pos.txt'\n",
    "# neg_file_path = '/home/zhangxin/work/workplace_python/DeepSentiment/data/train/result_neg.txt'\n",
    "\n",
    "\n",
    "#预测\n",
    "# model_rnn_path = 'data/model_rnn/model.ckpt'\n",
    "# predict_parent_file = 'data/text_predict'"
   ]
  },
  {
   "cell_type": "code",
   "execution_count": 3,
   "metadata": {},
   "outputs": [],
   "source": [
    "pos_file_path = globe.pos_file_path\n",
    "neg_file_path = globe.neg_file_path"
   ]
  },
  {
   "cell_type": "code",
   "execution_count": 6,
   "metadata": {},
   "outputs": [
    {
     "ename": "AttributeError",
     "evalue": "'str' object has no attribute 'show'",
     "traceback": [
      "\u001b[0;31m\u001b[0m",
      "\u001b[0;31mAttributeError\u001b[0mTraceback (most recent call last)",
      "\u001b[0;32m<ipython-input-6-d90d1f0cd5bc>\u001b[0m in \u001b[0;36m<module>\u001b[0;34m()\u001b[0m\n\u001b[1;32m      1\u001b[0m \u001b[0mpos_data\u001b[0m \u001b[0;34m=\u001b[0m \u001b[0mdata_processing\u001b[0m\u001b[0;34m.\u001b[0m\u001b[0mread_source_data\u001b[0m\u001b[0;34m(\u001b[0m\u001b[0mpos_file_path\u001b[0m\u001b[0;34m)\u001b[0m\u001b[0;34m\u001b[0m\u001b[0m\n\u001b[1;32m      2\u001b[0m \u001b[0mneg_data\u001b[0m \u001b[0;34m=\u001b[0m \u001b[0mdata_processing\u001b[0m\u001b[0;34m.\u001b[0m\u001b[0mread_source_data\u001b[0m\u001b[0;34m(\u001b[0m\u001b[0mneg_file_path\u001b[0m\u001b[0;34m)\u001b[0m\u001b[0;34m\u001b[0m\u001b[0m\n\u001b[0;32m----> 3\u001b[0;31m \u001b[0mpos_data\u001b[0m\u001b[0;34m[\u001b[0m\u001b[0;36m0\u001b[0m\u001b[0;34m]\u001b[0m\u001b[0;34m.\u001b[0m\u001b[0mshow\u001b[0m\u001b[0;34m(\u001b[0m\u001b[0;34m)\u001b[0m\u001b[0;34m\u001b[0m\u001b[0m\n\u001b[0m",
      "\u001b[0;31mAttributeError\u001b[0m: 'str' object has no attribute 'show'"
     ],
     "output_type": "error"
    }
   ],
   "source": [
    "pos_data = data_processing.read_source_data(pos_file_path)\n",
    "neg_data = data_processing.read_source_data(neg_file_path)\n",
    "pos_data[0].show()"
   ]
  },
  {
   "cell_type": "code",
   "execution_count": null,
   "metadata": {},
   "outputs": [],
   "source": [
    ""
   ]
  }
 ],
 "metadata": {
  "kernelspec": {
   "display_name": "Python 2",
   "language": "python",
   "name": "python2"
  },
  "language_info": {
   "codemirror_mode": {
    "name": "ipython",
    "version": 2.0
   },
   "file_extension": ".py",
   "mimetype": "text/x-python",
   "name": "python",
   "nbconvert_exporter": "python",
   "pygments_lexer": "ipython2",
   "version": "2.7.6"
  }
 },
 "nbformat": 4,
 "nbformat_minor": 0
}